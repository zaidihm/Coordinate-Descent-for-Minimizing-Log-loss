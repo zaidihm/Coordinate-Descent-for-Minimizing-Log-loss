{
 "cells": [
  {
   "cell_type": "code",
   "execution_count": 1,
   "id": "aa0edbd6",
   "metadata": {
    "_cell_guid": "b1076dfc-b9ad-4769-8c92-a6c4dae69d19",
    "_uuid": "8f2839f25d086af736a60e9eeb907d3b93b6e0e5",
    "execution": {
     "iopub.execute_input": "2024-05-14T11:50:00.043433Z",
     "iopub.status.busy": "2024-05-14T11:50:00.043003Z",
     "iopub.status.idle": "2024-05-14T11:50:00.978738Z",
     "shell.execute_reply": "2024-05-14T11:50:00.977104Z"
    },
    "papermill": {
     "duration": 0.94813,
     "end_time": "2024-05-14T11:50:00.981540",
     "exception": false,
     "start_time": "2024-05-14T11:50:00.033410",
     "status": "completed"
    },
    "tags": []
   },
   "outputs": [
    {
     "name": "stdout",
     "output_type": "stream",
     "text": [
      "/kaggle/input/the-ultimate-halloween-candy-power-ranking/candy-data.csv\n"
     ]
    }
   ],
   "source": [
    "# This Python 3 environment comes with many helpful analytics libraries installed\n",
    "# It is defined by the kaggle/python Docker image: https://github.com/kaggle/docker-python\n",
    "# For example, here's several helpful packages to load\n",
    "\n",
    "import numpy as np # linear algebra\n",
    "import pandas as pd # data processing, CSV file I/O (e.g. pd.read_csv)\n",
    "\n",
    "# Input data files are available in the read-only \"../input/\" directory\n",
    "# For example, running this (by clicking run or pressing Shift+Enter) will list all files under the input directory\n",
    "\n",
    "import os\n",
    "for dirname, _, filenames in os.walk('/kaggle/input'):\n",
    "    for filename in filenames:\n",
    "        print(os.path.join(dirname, filename))\n",
    "\n",
    "# You can write up to 20GB to the current directory (/kaggle/working/) that gets preserved as output when you create a version using \"Save & Run All\" \n",
    "# You can also write temporary files to /kaggle/temp/, but they won't be saved outside of the current session"
   ]
  },
  {
   "cell_type": "code",
   "execution_count": 2,
   "id": "0654e242",
   "metadata": {
    "execution": {
     "iopub.execute_input": "2024-05-14T11:50:00.999441Z",
     "iopub.status.busy": "2024-05-14T11:50:00.998217Z",
     "iopub.status.idle": "2024-05-14T11:50:02.485094Z",
     "shell.execute_reply": "2024-05-14T11:50:02.483802Z"
    },
    "papermill": {
     "duration": 1.499032,
     "end_time": "2024-05-14T11:50:02.488169",
     "exception": false,
     "start_time": "2024-05-14T11:50:00.989137",
     "status": "completed"
    },
    "tags": []
   },
   "outputs": [],
   "source": [
    "import numpy as np\n",
    "import pandas as pd\n",
    "from sklearn.model_selection import train_test_split\n",
    "from sklearn.preprocessing import StandardScaler\n",
    "from sklearn.metrics import log_loss\n",
    "import matplotlib.pyplot as plt\n",
    "from sklearn.linear_model import LogisticRegression"
   ]
  },
  {
   "cell_type": "markdown",
   "id": "a3ddfef1",
   "metadata": {
    "papermill": {
     "duration": 0.007197,
     "end_time": "2024-05-14T11:50:02.502782",
     "exception": false,
     "start_time": "2024-05-14T11:50:02.495585",
     "status": "completed"
    },
    "tags": []
   },
   "source": [
    "# **Coordinate Descent for Log Loss Minimization**"
   ]
  },
  {
   "cell_type": "markdown",
   "id": "461ea936",
   "metadata": {
    "papermill": {
     "duration": 0.006909,
     "end_time": "2024-05-14T11:50:02.517014",
     "exception": false,
     "start_time": "2024-05-14T11:50:02.510105",
     "status": "completed"
    },
    "tags": []
   },
   "source": [
    "Let's consider a logistic regression model with parameters $\\mathbf{w} = (w_1, w_2, \\dots, w_d)$. We want to minimize the log loss function over a training dataset with $n$ samples. The log loss function for a single sample $(x_i, y_i)$ is defined as:\n",
    "\n",
    "\\begin{equation}\n",
    "L(w; x_i, y_i) = -y_i \\log(h(w^T x_i)) - (1 - y_i) \\log(1 - h(w^T x_i))\n",
    "\\end{equation}\n",
    "where:\n",
    "\n",
    "* $h(w^T x_i)$ is the sigmoid function evaluated at the linear combination of weights and features for sample $i$\n",
    "* $y_i$ is the true label for sample $i$ (either 0 or 1)\n",
    "\n",
    "The overall log loss for the entire dataset is:\n",
    "\n",
    "\\begin{equation}\n",
    "L(\\mathbf{w}) = \\frac{1}{n} \\sum_{i=1}^{n} L(w; x_i, y_i)\n",
    "\\end{equation}\n",
    "\n",
    "The coordinate descent algorithm for minimizing the log loss iteratively updates each weight $w_j$ as follows:\n",
    "\n",
    "\n",
    "\\begin{equation}\n",
    "w_j^{k+1} = \\arg \\min_{w_j} L(\\mathbf{w}^k_j, w_j, \\mathbf{w}^k_{-j})\n",
    "\\end{equation}\n",
    "\n",
    "\n",
    "where:\n",
    "\n",
    "* $k$ is the iteration number\n",
    "* $\\mathbf{w}^k$ is the weight vector at iteration $k$\n",
    "* $\\mathbf{w}^k_j$ denotes all weights except $w_j$ at iteration $k$ (vector with the j-th element removed)\n",
    "* $w_j^{k+1}$ is the updated value of weight $w_j$ at iteration $k+1$\n",
    "\n"
   ]
  },
  {
   "cell_type": "markdown",
   "id": "7aac3f15",
   "metadata": {
    "papermill": {
     "duration": 0.006958,
     "end_time": "2024-05-14T11:50:02.531210",
     "exception": false,
     "start_time": "2024-05-14T11:50:02.524252",
     "status": "completed"
    },
    "tags": []
   },
   "source": [
    "# **Methodology**"
   ]
  },
  {
   "cell_type": "markdown",
   "id": "5a9e753c",
   "metadata": {
    "papermill": {
     "duration": 0.006937,
     "end_time": "2024-05-14T11:50:02.545453",
     "exception": false,
     "start_time": "2024-05-14T11:50:02.538516",
     "status": "completed"
    },
    "tags": []
   },
   "source": [
    "I use the cross entropy loss or Log-Loss $L(w)$ in the coordinate descent method. Let $\\hat{y}$ be the probability of predicting label 1, and let $y$ be the actual label. Then the cross entropy loss and gradient is defined below:\n",
    "\n",
    "$$\n",
    "L(w) = -\\frac{1}{n}\\displaystyle\\sum_{i=1}^{n} y_{i} \\log \\hat{y}_{i} + (1 - y_{i}) \\log(1 - \\hat{y}_{i})\n",
    "$$\n",
    "\n",
    "And thus the gradients with respect with each weight $w_{j}$ is given by,\n",
    "\n",
    "$$\n",
    "\\frac{\\partial L(w)}{\\partial w_{j}} = \\displaystyle \\sum_{i=1}^{n}(\\hat{y}_{i} - y_{i})x_{j}\n",
    "$$\n",
    "\n",
    "The loss function $L(\\bullet)$ should be differentiable and preferrably convex. The procedure of the Coordinate Descent method is outlined below:\n",
    "\n",
    "1. Initialize weights to zero\n",
    "\n",
    "2. Get predictions from sigmoid function\n",
    "\n",
    "3. Calculate loss and gradients\n",
    "\n",
    "4. Find Coordinate $i$ with the largest gradient in absolute value (best coordinate descent) or randomly choose weight (random coordinate descent)\n",
    "\n",
    "5. Update weight $i$ via: $w_{i} = w_{i} - \\eta \\frac{\\partial L(w)}{\\partial w_{i}}$\n",
    "\n",
    "6. Repeat (1) - (5) until convergence"
   ]
  },
  {
   "cell_type": "code",
   "execution_count": 3,
   "id": "26e154a1",
   "metadata": {
    "execution": {
     "iopub.execute_input": "2024-05-14T11:50:02.562057Z",
     "iopub.status.busy": "2024-05-14T11:50:02.561571Z",
     "iopub.status.idle": "2024-05-14T11:50:02.605542Z",
     "shell.execute_reply": "2024-05-14T11:50:02.604348Z"
    },
    "papermill": {
     "duration": 0.055799,
     "end_time": "2024-05-14T11:50:02.608570",
     "exception": false,
     "start_time": "2024-05-14T11:50:02.552771",
     "status": "completed"
    },
    "tags": []
   },
   "outputs": [
    {
     "data": {
      "text/html": [
       "<div>\n",
       "<style scoped>\n",
       "    .dataframe tbody tr th:only-of-type {\n",
       "        vertical-align: middle;\n",
       "    }\n",
       "\n",
       "    .dataframe tbody tr th {\n",
       "        vertical-align: top;\n",
       "    }\n",
       "\n",
       "    .dataframe thead th {\n",
       "        text-align: right;\n",
       "    }\n",
       "</style>\n",
       "<table border=\"1\" class=\"dataframe\">\n",
       "  <thead>\n",
       "    <tr style=\"text-align: right;\">\n",
       "      <th></th>\n",
       "      <th>competitorname</th>\n",
       "      <th>chocolate</th>\n",
       "      <th>fruity</th>\n",
       "      <th>caramel</th>\n",
       "      <th>peanutyalmondy</th>\n",
       "      <th>nougat</th>\n",
       "      <th>crispedricewafer</th>\n",
       "      <th>hard</th>\n",
       "      <th>bar</th>\n",
       "      <th>pluribus</th>\n",
       "      <th>sugarpercent</th>\n",
       "      <th>pricepercent</th>\n",
       "      <th>winpercent</th>\n",
       "    </tr>\n",
       "  </thead>\n",
       "  <tbody>\n",
       "    <tr>\n",
       "      <th>0</th>\n",
       "      <td>100 Grand</td>\n",
       "      <td>1</td>\n",
       "      <td>0</td>\n",
       "      <td>1</td>\n",
       "      <td>0</td>\n",
       "      <td>0</td>\n",
       "      <td>1</td>\n",
       "      <td>0</td>\n",
       "      <td>1</td>\n",
       "      <td>0</td>\n",
       "      <td>0.732</td>\n",
       "      <td>0.860</td>\n",
       "      <td>66.971725</td>\n",
       "    </tr>\n",
       "    <tr>\n",
       "      <th>1</th>\n",
       "      <td>3 Musketeers</td>\n",
       "      <td>1</td>\n",
       "      <td>0</td>\n",
       "      <td>0</td>\n",
       "      <td>0</td>\n",
       "      <td>1</td>\n",
       "      <td>0</td>\n",
       "      <td>0</td>\n",
       "      <td>1</td>\n",
       "      <td>0</td>\n",
       "      <td>0.604</td>\n",
       "      <td>0.511</td>\n",
       "      <td>67.602936</td>\n",
       "    </tr>\n",
       "    <tr>\n",
       "      <th>2</th>\n",
       "      <td>One dime</td>\n",
       "      <td>0</td>\n",
       "      <td>0</td>\n",
       "      <td>0</td>\n",
       "      <td>0</td>\n",
       "      <td>0</td>\n",
       "      <td>0</td>\n",
       "      <td>0</td>\n",
       "      <td>0</td>\n",
       "      <td>0</td>\n",
       "      <td>0.011</td>\n",
       "      <td>0.116</td>\n",
       "      <td>32.261086</td>\n",
       "    </tr>\n",
       "    <tr>\n",
       "      <th>3</th>\n",
       "      <td>One quarter</td>\n",
       "      <td>0</td>\n",
       "      <td>0</td>\n",
       "      <td>0</td>\n",
       "      <td>0</td>\n",
       "      <td>0</td>\n",
       "      <td>0</td>\n",
       "      <td>0</td>\n",
       "      <td>0</td>\n",
       "      <td>0</td>\n",
       "      <td>0.011</td>\n",
       "      <td>0.511</td>\n",
       "      <td>46.116505</td>\n",
       "    </tr>\n",
       "    <tr>\n",
       "      <th>4</th>\n",
       "      <td>Air Heads</td>\n",
       "      <td>0</td>\n",
       "      <td>1</td>\n",
       "      <td>0</td>\n",
       "      <td>0</td>\n",
       "      <td>0</td>\n",
       "      <td>0</td>\n",
       "      <td>0</td>\n",
       "      <td>0</td>\n",
       "      <td>0</td>\n",
       "      <td>0.906</td>\n",
       "      <td>0.511</td>\n",
       "      <td>52.341465</td>\n",
       "    </tr>\n",
       "  </tbody>\n",
       "</table>\n",
       "</div>"
      ],
      "text/plain": [
       "  competitorname  chocolate  fruity  caramel  peanutyalmondy  nougat  \\\n",
       "0      100 Grand          1       0        1               0       0   \n",
       "1   3 Musketeers          1       0        0               0       1   \n",
       "2       One dime          0       0        0               0       0   \n",
       "3    One quarter          0       0        0               0       0   \n",
       "4      Air Heads          0       1        0               0       0   \n",
       "\n",
       "   crispedricewafer  hard  bar  pluribus  sugarpercent  pricepercent  \\\n",
       "0                 1     0    1         0         0.732         0.860   \n",
       "1                 0     0    1         0         0.604         0.511   \n",
       "2                 0     0    0         0         0.011         0.116   \n",
       "3                 0     0    0         0         0.011         0.511   \n",
       "4                 0     0    0         0         0.906         0.511   \n",
       "\n",
       "   winpercent  \n",
       "0   66.971725  \n",
       "1   67.602936  \n",
       "2   32.261086  \n",
       "3   46.116505  \n",
       "4   52.341465  "
      ]
     },
     "execution_count": 3,
     "metadata": {},
     "output_type": "execute_result"
    }
   ],
   "source": [
    "# Load the dataset\n",
    "candy = pd.read_csv('../input/the-ultimate-halloween-candy-power-ranking/candy-data.csv')\n",
    "candy.head()"
   ]
  },
  {
   "cell_type": "markdown",
   "id": "4ed18296",
   "metadata": {
    "papermill": {
     "duration": 0.0073,
     "end_time": "2024-05-14T11:50:02.623756",
     "exception": false,
     "start_time": "2024-05-14T11:50:02.616456",
     "status": "completed"
    },
    "tags": []
   },
   "source": [
    "#  **Feature Engineering**"
   ]
  },
  {
   "cell_type": "code",
   "execution_count": 4,
   "id": "8a0a9177",
   "metadata": {
    "execution": {
     "iopub.execute_input": "2024-05-14T11:50:02.641843Z",
     "iopub.status.busy": "2024-05-14T11:50:02.641335Z",
     "iopub.status.idle": "2024-05-14T11:50:02.659159Z",
     "shell.execute_reply": "2024-05-14T11:50:02.657889Z"
    },
    "papermill": {
     "duration": 0.030658,
     "end_time": "2024-05-14T11:50:02.661985",
     "exception": false,
     "start_time": "2024-05-14T11:50:02.631327",
     "status": "completed"
    },
    "tags": []
   },
   "outputs": [],
   "source": [
    "# Drop 'chocolate' and 'competitorname' columns and separate the target variable\n",
    "X = candy.drop(['chocolate', 'competitorname'], axis=1)\n",
    "y = candy['chocolate']\n",
    "\n",
    "# Convert categorical features to dummy variables\n",
    "competitorname = pd.get_dummies(candy['competitorname'], drop_first=True)\n",
    "X = pd.concat([X, competitorname], axis=1)"
   ]
  },
  {
   "cell_type": "markdown",
   "id": "bbc21003",
   "metadata": {
    "papermill": {
     "duration": 0.007244,
     "end_time": "2024-05-14T11:50:02.677092",
     "exception": false,
     "start_time": "2024-05-14T11:50:02.669848",
     "status": "completed"
    },
    "tags": []
   },
   "source": [
    "# **Train Test Split and Standardization**"
   ]
  },
  {
   "cell_type": "code",
   "execution_count": 5,
   "id": "ce2873b4",
   "metadata": {
    "execution": {
     "iopub.execute_input": "2024-05-14T11:50:02.695678Z",
     "iopub.status.busy": "2024-05-14T11:50:02.695171Z",
     "iopub.status.idle": "2024-05-14T11:50:02.718156Z",
     "shell.execute_reply": "2024-05-14T11:50:02.716816Z"
    },
    "papermill": {
     "duration": 0.035461,
     "end_time": "2024-05-14T11:50:02.721301",
     "exception": false,
     "start_time": "2024-05-14T11:50:02.685840",
     "status": "completed"
    },
    "tags": []
   },
   "outputs": [],
   "source": [
    "# Split the dataset into training and testing sets\n",
    "X_train, X_test, y_train, y_test = train_test_split(X, y, test_size=0.2, random_state=4)\n",
    "\n",
    "# Standardize the features\n",
    "scaler = StandardScaler()\n",
    "X_train = scaler.fit_transform(X_train)\n",
    "X_test = scaler.transform(X_test)"
   ]
  },
  {
   "cell_type": "markdown",
   "id": "b1736b70",
   "metadata": {
    "papermill": {
     "duration": 0.007472,
     "end_time": "2024-05-14T11:50:02.736666",
     "exception": false,
     "start_time": "2024-05-14T11:50:02.729194",
     "status": "completed"
    },
    "tags": []
   },
   "source": [
    "# **Implementing the Coordinate Descent Algorithm**"
   ]
  },
  {
   "cell_type": "code",
   "execution_count": 6,
   "id": "167cd2a4",
   "metadata": {
    "execution": {
     "iopub.execute_input": "2024-05-14T11:50:02.754527Z",
     "iopub.status.busy": "2024-05-14T11:50:02.753995Z",
     "iopub.status.idle": "2024-05-14T11:50:02.765127Z",
     "shell.execute_reply": "2024-05-14T11:50:02.763770Z"
    },
    "papermill": {
     "duration": 0.023742,
     "end_time": "2024-05-14T11:50:02.768247",
     "exception": false,
     "start_time": "2024-05-14T11:50:02.744505",
     "status": "completed"
    },
    "tags": []
   },
   "outputs": [],
   "source": [
    "# Define the sigmoid function\n",
    "def sigmoid(z):\n",
    "    return 1 / (1 + np.exp(-z))\n",
    "\n",
    "# Define the log-loss function\n",
    "def compute_log_loss(X, y, theta):\n",
    "    m = len(y)\n",
    "    predictions = sigmoid(X.dot(theta))\n",
    "    loss = - (1 / m) * np.sum(y * np.log(predictions) + (1 - y) * np.log(1 - predictions))\n",
    "    return loss\n",
    "\n",
    "# Define the coordinate descent algorithm to minimize log-loss\n",
    "def coordinate_descent_log_loss(X, y, alpha=0.01, num_iters=1000):\n",
    "    m, n = X.shape\n",
    "    theta = np.zeros(n)\n",
    "    for _ in range(num_iters):\n",
    "        for j in range(n):\n",
    "            prediction = sigmoid(X.dot(theta))\n",
    "            error = prediction - y\n",
    "            gradient = (1 / m) * X[:, j].dot(error)\n",
    "            theta[j] -= alpha * gradient\n",
    "    return theta\n",
    "\n"
   ]
  },
  {
   "cell_type": "markdown",
   "id": "15b195fa",
   "metadata": {
    "papermill": {
     "duration": 0.007484,
     "end_time": "2024-05-14T11:50:02.783427",
     "exception": false,
     "start_time": "2024-05-14T11:50:02.775943",
     "status": "completed"
    },
    "tags": []
   },
   "source": [
    "# **Calculating the Error**"
   ]
  },
  {
   "cell_type": "code",
   "execution_count": 7,
   "id": "7a01188c",
   "metadata": {
    "execution": {
     "iopub.execute_input": "2024-05-14T11:50:02.800712Z",
     "iopub.status.busy": "2024-05-14T11:50:02.800244Z",
     "iopub.status.idle": "2024-05-14T11:50:20.757638Z",
     "shell.execute_reply": "2024-05-14T11:50:20.755964Z"
    },
    "papermill": {
     "duration": 17.969238,
     "end_time": "2024-05-14T11:50:20.760345",
     "exception": false,
     "start_time": "2024-05-14T11:50:02.791107",
     "status": "completed"
    },
    "tags": []
   },
   "outputs": [
    {
     "name": "stdout",
     "output_type": "stream",
     "text": [
      "Initial Log-Loss with zero weights: 0.6931471805599453\n",
      "Final Log-Loss after Coordinate Descent: 0.28977450792415127\n"
     ]
    }
   ],
   "source": [
    "# Initialize weights and compute initial log-loss\n",
    "initial_theta = np.zeros(X_train.shape[1])\n",
    "initial_log_loss = compute_log_loss(X_test, y_test, initial_theta)\n",
    "\n",
    "# Perform coordinate descent to minimize log-loss\n",
    "theta = coordinate_descent_log_loss(X_train, y_train)\n",
    "\n",
    "# Compute final log-loss after minimization\n",
    "final_log_loss = compute_log_loss(X_test, y_test, theta)\n",
    "\n",
    "# Print the initial and final log-loss\n",
    "print(\"Initial Log-Loss with zero weights:\", initial_log_loss)\n",
    "print(\"Final Log-Loss after Coordinate Descent:\", final_log_loss)"
   ]
  },
  {
   "cell_type": "code",
   "execution_count": 8,
   "id": "3d8a5b13",
   "metadata": {
    "execution": {
     "iopub.execute_input": "2024-05-14T11:50:20.778086Z",
     "iopub.status.busy": "2024-05-14T11:50:20.777633Z",
     "iopub.status.idle": "2024-05-14T11:50:20.802647Z",
     "shell.execute_reply": "2024-05-14T11:50:20.801332Z"
    },
    "papermill": {
     "duration": 0.036777,
     "end_time": "2024-05-14T11:50:20.805248",
     "exception": false,
     "start_time": "2024-05-14T11:50:20.768471",
     "status": "completed"
    },
    "tags": []
   },
   "outputs": [
    {
     "name": "stdout",
     "output_type": "stream",
     "text": [
      "Logistic Regression Log-Loss (sklearn): 0.27271497896818264\n"
     ]
    }
   ],
   "source": [
    "# For comparison, using Logistic Regression model from sklearn\n",
    "log_reg = LogisticRegression()\n",
    "log_reg.fit(X_train, y_train)\n",
    "probabilities = log_reg.predict_proba(X_test)\n",
    "log_reg_log_loss = log_loss(y_test, probabilities)\n",
    "print(\"Logistic Regression Log-Loss (sklearn):\", log_reg_log_loss)"
   ]
  },
  {
   "cell_type": "markdown",
   "id": "c3279ace",
   "metadata": {
    "papermill": {
     "duration": 0.007423,
     "end_time": "2024-05-14T11:50:20.820341",
     "exception": false,
     "start_time": "2024-05-14T11:50:20.812918",
     "status": "completed"
    },
    "tags": []
   },
   "source": [
    "# **Coordinate Descent Algorithm with Loss tracking**"
   ]
  },
  {
   "cell_type": "code",
   "execution_count": 9,
   "id": "6b4f340a",
   "metadata": {
    "execution": {
     "iopub.execute_input": "2024-05-14T11:50:20.838837Z",
     "iopub.status.busy": "2024-05-14T11:50:20.837592Z",
     "iopub.status.idle": "2024-05-14T11:50:39.910377Z",
     "shell.execute_reply": "2024-05-14T11:50:39.909103Z"
    },
    "papermill": {
     "duration": 19.08492,
     "end_time": "2024-05-14T11:50:39.913089",
     "exception": false,
     "start_time": "2024-05-14T11:50:20.828169",
     "status": "completed"
    },
    "tags": []
   },
   "outputs": [
    {
     "data": {
      "image/png": "[encoded data removed]",
      "text/plain": [
       "<Figure size 1000x600 with 1 Axes>"
      ]
     },
     "metadata": {},
     "output_type": "display_data"
    }
   ],
   "source": [
    "# Define the coordinate descent algorithm with loss tracking\n",
    "def coordinate_descent_log_loss(X, y, alpha=0.01, num_iters=1000):\n",
    "    m, n = X.shape\n",
    "    theta = np.zeros(n)\n",
    "    losses = []  # List to store loss values for each iteration\n",
    "    for _ in range(num_iters):\n",
    "        for j in range(n):\n",
    "            prediction = sigmoid(X.dot(theta))\n",
    "            error = prediction - y\n",
    "            gradient = (1 / m) * X[:, j].dot(error)\n",
    "            theta[j] -= alpha * gradient\n",
    "        # Compute and store loss after each iteration\n",
    "        loss = compute_log_loss(X, y, theta)\n",
    "        losses.append(loss)\n",
    "    return theta, losses\n",
    "\n",
    "# Perform coordinate descent with loss tracking\n",
    "theta, losses = coordinate_descent_log_loss(X_train, y_train)\n",
    "\n",
    "# Plot the loss over iterations\n",
    "plt.figure(figsize=(10, 6))\n",
    "plt.plot(losses, marker='.', linestyle='-')\n",
    "plt.xlabel('Iterations')\n",
    "plt.ylabel('Log-Loss')\n",
    "plt.title('Coordinate Descent: Loss over Iterations')\n",
    "plt.show()\n"
   ]
  },
  {
   "cell_type": "markdown",
   "id": "e04e06f0",
   "metadata": {
    "papermill": {
     "duration": 0.008252,
     "end_time": "2024-05-14T11:50:39.929842",
     "exception": false,
     "start_time": "2024-05-14T11:50:39.921590",
     "status": "completed"
    },
    "tags": []
   },
   "source": [
    "# **Comparing Before and After Minimization**"
   ]
  },
  {
   "cell_type": "code",
   "execution_count": 10,
   "id": "c0f4eeae",
   "metadata": {
    "execution": {
     "iopub.execute_input": "2024-05-14T11:50:39.948554Z",
     "iopub.status.busy": "2024-05-14T11:50:39.948139Z",
     "iopub.status.idle": "2024-05-14T11:50:40.243789Z",
     "shell.execute_reply": "2024-05-14T11:50:40.242466Z"
    },
    "papermill": {
     "duration": 0.30838,
     "end_time": "2024-05-14T11:50:40.246523",
     "exception": false,
     "start_time": "2024-05-14T11:50:39.938143",
     "status": "completed"
    },
    "tags": []
   },
   "outputs": [
    {
     "data": {
      "image/png": "[encoded data removed]",
      "text/plain": [
       "<Figure size 1000x600 with 1 Axes>"
      ]
     },
     "metadata": {},
     "output_type": "display_data"
    }
   ],
   "source": [
    "# Loss values\n",
    "losses = [initial_log_loss, final_log_loss, log_reg_log_loss]\n",
    "labels = ['Initial Log-Loss', 'Final Log-Loss (Coordinate Descent)', 'Log-Loss (sklearn)']\n",
    "\n",
    "# Plot the losses\n",
    "plt.figure(figsize=(10, 6))\n",
    "plt.plot(labels, losses, marker='o', linestyle='-')\n",
    "plt.xlabel('Model and Training Method')\n",
    "plt.ylabel('Log-Loss')\n",
    "plt.title('Comparison of Log-Loss Values')\n",
    "plt.grid(True)\n",
    "plt.legend()\n",
    "plt.show()"
   ]
  },
  {
   "cell_type": "code",
   "execution_count": 11,
   "id": "e7d60610",
   "metadata": {
    "execution": {
     "iopub.execute_input": "2024-05-14T11:50:40.267896Z",
     "iopub.status.busy": "2024-05-14T11:50:40.266693Z",
     "iopub.status.idle": "2024-05-14T11:50:41.300747Z",
     "shell.execute_reply": "2024-05-14T11:50:41.299399Z"
    },
    "papermill": {
     "duration": 1.047863,
     "end_time": "2024-05-14T11:50:41.303669",
     "exception": false,
     "start_time": "2024-05-14T11:50:40.255806",
     "status": "completed"
    },
    "tags": []
   },
   "outputs": [
    {
     "name": "stdout",
     "output_type": "stream",
     "text": [
      "Final Log-Loss after Gradient Descent: 0.24894962995092756\n",
      "Final Log-Loss after Coordinate Descent: 0.28977450792415127\n",
      "Logistic Regression Log-Loss (sklearn): 0.27271497896818264\n"
     ]
    }
   ],
   "source": [
    "# Define the gradient descent algorithm to minimize log-loss\n",
    "def gradient_descent_log_loss(X, y, alpha=0.01, num_iters=5000):\n",
    "    m, n = X.shape\n",
    "    theta = np.zeros(n)\n",
    "    for _ in range(num_iters):\n",
    "        predictions = sigmoid(X.dot(theta))\n",
    "        error = predictions - y\n",
    "        gradient = (1 / m) * X.T.dot(error)\n",
    "        theta -= alpha * gradient\n",
    "    return theta\n",
    "\n",
    "# Define a function to compare the minimized values\n",
    "def compare_minimized_values(X_train, y_train, X_test, y_test):\n",
    "    # Perform gradient descent to minimize log-loss\n",
    "    theta_gradient_descent = gradient_descent_log_loss(X_train, y_train)\n",
    "    final_log_loss_gradient_descent = compute_log_loss(X_test, y_test, theta_gradient_descent)\n",
    "\n",
    "    # Print the final log-loss after gradient descent, coordinate desecent and log-loss of logistic regressio from sklearn\n",
    "    print(\"Final Log-Loss after Gradient Descent:\", final_log_loss_gradient_descent)\n",
    "    print(\"Final Log-Loss after Coordinate Descent:\", final_log_loss)\n",
    "    print(\"Logistic Regression Log-Loss (sklearn):\", log_reg_log_loss)\n",
    "\n",
    "# Call the function to compare minimized values\n",
    "compare_minimized_values(X_train, y_train, X_test, y_test)\n"
   ]
  },
  {
   "cell_type": "markdown",
   "id": "68c49d6b",
   "metadata": {
    "papermill": {
     "duration": 0.008798,
     "end_time": "2024-05-14T11:50:41.321713",
     "exception": false,
     "start_time": "2024-05-14T11:50:41.312915",
     "status": "completed"
    },
    "tags": []
   },
   "source": [
    "**If you found this notebook helpful and enjoyed my work, please consider giving it an upvote ⬆️. This task was completed as a Complex Engineering Problem (CEP) for my DS221 Inferential Statistics course at the GIK Institute, taught by Dr. Babar Zaman. I'm not very confident with the mathematical aspects, so if you notice any errors, please feel free to make a fork or comment on it to help me improve. The mathematical formulations and LaTeX code were generated by Gemini.  Thank you!**\n",
    "\n",
    "CC:  ChatGPT, Stackoverflow, stats.stackexchange, GitHub"
   ]
  }
 ],
 "metadata": {
  "kaggle": {
   "accelerator": "none",
   "dataSources": [
    {
     "datasetId": 3732,
     "sourceId": 5912,
     "sourceType": "datasetVersion"
    }
   ],
   "dockerImageVersionId": 30698,
   "isGpuEnabled": false,
   "isInternetEnabled": true,
   "language": "python",
   "sourceType": "notebook"
  },
  "kernelspec": {
   "display_name": "Python 3",
   "language": "python",
   "name": "python3"
  },
  "language_info": {
   "codemirror_mode": {
    "name": "ipython",
    "version": 3
   },
   "file_extension": ".py",
   "mimetype": "text/x-python",
   "name": "python",
   "nbconvert_exporter": "python",
   "pygments_lexer": "ipython3",
   "version": "3.10.13"
  },
  "papermill": {
   "default_parameters": {},
   "duration": 45.161368,
   "end_time": "2024-05-14T11:50:42.054189",
   "environment_variables": {},
   "exception": null,
   "input_path": "__notebook__.ipynb",
   "output_path": "__notebook__.ipynb",
   "parameters": {},
   "start_time": "2024-05-14T11:49:56.892821",
   "version": "2.5.0"
  }
 },
 "nbformat": 4,
 "nbformat_minor": 5
}
